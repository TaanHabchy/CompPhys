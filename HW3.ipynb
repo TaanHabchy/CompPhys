{
 "cells": [
  {
   "cell_type": "markdown",
   "id": "collected-enemy",
   "metadata": {},
   "source": [
    "## Computational Physics Assignment 3"
   ]
  },
  {
   "cell_type": "markdown",
   "id": "worse-cocktail",
   "metadata": {},
   "source": [
    "*The first principle is that you must not fool yourself and you are the easiest person to fool.*\n",
    "--Richard P. Feynman\n"
   ]
  },
  {
   "cell_type": "markdown",
   "id": "objective-budapest",
   "metadata": {},
   "source": [
    "1.\tAccess the file from the Transiting Exoplanet Survey Satellite (TESS), tess2022112184951-s0051-0000000460396820-0223-s_lc_t1, under Resources on Brightspace.  Develop a program to read the file, remove all lines containing a NULL, and save the file as cleanfile.txt."
   ]
  },
  {
   "cell_type": "markdown",
   "id": "genetic-conservative",
   "metadata": {},
   "source": [
    "2.\tAccess the TESS file TOI311133118excerpt.  Write code to read the file and rearrange values from least to greatest in the second column.  Save your file as rearrange.txt"
   ]
  },
  {
   "cell_type": "markdown",
   "id": "still-revolution",
   "metadata": {},
   "source": [
    "3.\tPlot a graph of column 1 as independent variable and column 2 as dependent variable for the datafile in Problem 2.  Label your axes “Flux (W/m2)” and “Time (days)”.  Use the third column data to plot errorbars."
   ]
  },
  {
   "cell_type": "markdown",
   "id": "removable-pepper",
   "metadata": {},
   "source": [
    "4.\tPlot the function   for $v_0 = 20.0$ $m/s$ and $g = 9.81$ $m/s^2$.   Label the x axis as “time (s)’ and the y axis as “position (m)”.   Determine the maximum height reached by the ball. "
   ]
  },
  {
   "cell_type": "code",
   "execution_count": null,
   "id": "baf6d7ea",
   "metadata": {},
   "outputs": [],
   "source": [
    "import numpy as np\n",
    "import matplotlib.pyplot as plt\n",
    "\n",
    "velocity = 20.0\n",
    "gravity = 9.81\n",
    "\n",
    "time = np.linspace(0,10, 100)\n",
    "height = (velocity * time) - (((1 / 2) * gravity) * (time * time))\n",
    "    \n",
    "plt.plot(time, height, \"g-\")\n",
    "plt.xlim(0, 5)\n",
    "plt.ylim(0, 25)\n",
    "plt.xlabel(\"time (s)\")\n",
    "plt.ylabel(\"m\")\n",
    "plt.show()"
   ]
  },
  {
   "cell_type": "markdown",
   "id": "15dcd7a3",
   "metadata": {},
   "source": [
    "The maximum height reached by the ball = 20.387\n",
    " = 20(4.08 / 2) = (9.81 / 2)(4.08 / 2)^2"
   ]
  },
  {
   "cell_type": "markdown",
   "id": "advisory-copyright",
   "metadata": {},
   "source": [
    "5. Plot $y_1$ and $y_2$ and their first derivative on the same graph as functions using the definition of the discrete derivative, where  $y_1 = \\cos(x) - \\exp(-x)$ and $y_2 = -x^2$ and $-2 \\leq x \\leq 2$.  Use a legend to distinguish the four curves and label your axes."
   ]
  },
  {
   "cell_type": "code",
   "execution_count": null,
   "id": "solid-durham",
   "metadata": {},
   "outputs": [],
   "source": [
    "import numpy as np\n",
    "import matplotlib.pyplot as plt\n",
    "\n",
    "x = np.linspace(-2, 2, 100)\n",
    "y1 = np.cos(x) - np.exp(-x)\n",
    "y2 = -x**2\n",
    "dy1 = (-1 * np.sin(x)) + np.exp(-x)\n",
    "dy2 = -2 * x\n",
    "\n",
    "\n",
    "plt.xlim(-2, 2)\n",
    "plt.plot(x, y1, \"g-\")\n",
    "plt.plot(x, y2, \"m-\")\n",
    "plt.plot(x, dy1, \"b-\")\n",
    "plt.plot(x, dy2, \"y-\")\n",
    "\n",
    "plt.title(\"Two functions and their first derivatives\")\n",
    "plt.legend((\"cos(x) - e^-x\", \"-x^2\", \"-sin(x) + e^-x\", \"-2x\"))\n",
    "plt.xlabel(\"x\")\n",
    "plt.ylabel(\"y\")\n",
    "plt.grid(True)\n",
    "plt.show()"
   ]
  }
 ],
 "metadata": {
  "kernelspec": {
   "display_name": "Python 3",
   "language": "python",
   "name": "python3"
  },
  "language_info": {
   "codemirror_mode": {
    "name": "ipython",
    "version": 3
   },
   "file_extension": ".py",
   "mimetype": "text/x-python",
   "name": "python",
   "nbconvert_exporter": "python",
   "pygments_lexer": "ipython3",
   "version": "3.7.3"
  }
 },
 "nbformat": 4,
 "nbformat_minor": 5
}
