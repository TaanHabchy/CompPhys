{
 "cells": [
  {
   "cell_type": "markdown",
   "id": "fuzzy-brand",
   "metadata": {},
   "source": [
    "# Computaional Physics HW2"
   ]
  },
  {
   "cell_type": "markdown",
   "id": "enhanced-actress",
   "metadata": {},
   "source": [
    "Physics is, hopefully, simple.  Physicists are not. -- Edward Teller"
   ]
  },
  {
   "cell_type": "markdown",
   "id": "substantial-disorder",
   "metadata": {},
   "source": [
    "1.  The Catalan numbers Cn are a sequence of integers 1, 1, 2, 5, 14, 42, 132... that play an \n",
    "important role in quantum mechanics (quantum entanglement) and the theory of disordered \n",
    "systems. (They were central to Eugene Wigner’s proof of the so-called semicircle law.) They \n",
    "are defined by\n",
    "\n",
    "$$ C_0 = 1, \n",
    "C_{n+1} = \\frac{4n+2}{n+2} C_n \n",
    "$$\n",
    "\n",
    "Write a program that prints, in increasing order, all Catalan numbers less than or equal to ten \n",
    "billion. \\ital{(P.S. If you obtain 216 for one of the numbers, you have an error.)\n"
   ]
  },
  {
   "cell_type": "code",
   "execution_count": null,
   "id": "b76bba15",
   "metadata": {},
   "outputs": [],
   "source": [
    "output = 1\n",
    "for i in range(1, 1000000001):\n",
    "    output = ((4 * i + 2) / (i + 2)) * output\n",
    "    print(output)"
   ]
  },
  {
   "cell_type": "markdown",
   "id": "racial-stranger",
   "metadata": {},
   "source": [
    "2.  An unsolved conjecture posed by Luthar Collatz in 1937 states the following: Take any natural \n",
    "number n. If n is even, divide it by 2 to get n / 2, if n is odd multiply it by 3 and add 1 to \n",
    "obtain 3n + 1. Repeat the process indefinitely. The conjecture is that no matter what number \n",
    "you start with, you will always eventually reach 1. Write a Python program that calculates \n",
    "the first 20 iterates for a user-specified natural number n. Such sequences are called \n",
    "hailstone sequences because the values typically rise and fall analogously to a hailstone \n",
    "inside a cloud. While a hailstone eventually becomes so heavy that it falls to ground, every \n",
    "starting positive integer ever tested has produced a hailstone sequence that eventually drops \n",
    "down to the number 1 and then \"bounces\" into the small loop 4, 2, 1, ...."
   ]
  },
  {
   "cell_type": "code",
   "execution_count": null,
   "id": "b3bd4878",
   "metadata": {},
   "outputs": [],
   "source": [
    "def Collatz(n):\n",
    "    for i in range(0, 20):\n",
    "        if (n % 2 == 0):\n",
    "            print(n)\n",
    "            n /= 2\n",
    "        else:\n",
    "            print(n)\n",
    "            n = 3 * n + 1"
   ]
  },
  {
   "cell_type": "markdown",
   "id": "suspended-somerset",
   "metadata": {},
   "source": [
    "3.  Euclid showed that the greatest common divisor g(m,n) of two nonnegative integers m and n\n",
    "satisfies\n",
    "$$\n",
    "g(m,n) = \\bigg( \\frac{m, if n = 0}{g(n,m mod n),  if n > 0} \\bigg)\n",
    "$$\n"
   ]
  },
  {
   "cell_type": "markdown",
   "id": "cellular-malta",
   "metadata": {},
   "source": [
    "4.  Write code that takes starting and ending temperatures in Celsius, calculates the corresponding Fahrenheit temperature for each dedgree between the starting and ending temperature, and prints out the results."
   ]
  },
  {
   "cell_type": "code",
   "execution_count": null,
   "id": "cd962fea",
   "metadata": {},
   "outputs": [],
   "source": [
    "def convert(n):\n",
    "    output = n * 9/5 + 32\n",
    "    return output\n",
    "\n",
    "def celToFahr(start, stop):\n",
    "    print(\"\\nCelsius        Fahrenheit\")\n",
    "    \n",
    "    for i in range(start, stop + 1):\n",
    "        output = convert(i)\n",
    "        print(\" \",i, \"            \", output)"
   ]
  },
  {
   "cell_type": "markdown",
   "id": "boring-thanks",
   "metadata": {},
   "source": [
    "5. The text data file sunspots.txt on Brightspace, under Resources, contains the observed number of sunspots on the Sun for each month since January 1749. The file contains two columns of numbers, the first being the month and the second being the sunspot number.\n",
    "(a)\tWrite a program that reads in the data and makes a graph of sunspots as a function of time.\n",
    "(b)\tModify your program to display only the first 1000 data points on the graph.\n",
    "(c)\tModify the program further to calculate and plot the running average of the data , defined by\n",
    "$$\n",
    "Y_k = \\frac{1}{(2r+1)} \\sum_{m=-1}^{r} y_{k+m}\n",
    "$$\n"
   ]
  },
  {
   "cell_type": "code",
   "execution_count": null,
   "id": "84c06808",
   "metadata": {},
   "outputs": [
    {
     "ename": "",
     "evalue": "",
     "output_type": "error",
     "traceback": [
      "\u001b[1;31mRunning cells with 'c:\\Users\\19784\\AppData\\Local\\Microsoft\\WindowsApps\\python3.10.exe' requires the ipykernel package.\n",
      "\u001b[1;31mRun the following command to install 'ipykernel' into the Python environment. \n",
      "\u001b[1;31mCommand: 'c:/Users/19784/AppData/Local/Microsoft/WindowsApps/python3.10.exe -m pip install ipykernel -U --user --force-reinstall'"
     ]
    }
   ],
   "source": [
    "import numpy as np\n",
    "import matplotlib.pyplot as plt\n",
    "\n",
    "#load our data\n",
    "data = np.loadtxt(\"sunspots.txt\", float, skiprows = 0)\n",
    "print(data)\n",
    "\n",
    "#determine the number of rows\n",
    "\n",
    "monthNumber = data[0:1000,0] # taking all of the first column\n",
    "sunspotNumber = data[0:1000,1] \n",
    "\n",
    "numRows = len(sunspotNumber) # number of rows of data\n",
    "\n",
    "# calculate the running avg\n",
    "r = 10 # sets the number of points for previous and pos\n",
    "runAvg = np.zeros(numRows - 2 * r, float)\n",
    "for k in range(len(runAvg)):  \n",
    "    for m in range(-r, r + 1): # # this loop runs through all the points before and after the point k\n",
    "        runAvg[k] = sunspotNumber[k + m + r] + runAvg[k]\n",
    "    runAvg[k] = runAvg[k] / (2 * r + 1)\n",
    "\n",
    "\n",
    "# plotting values\n",
    "plt.plot(monthNumber, sunspotNumber, \"darkgreen\", )\n",
    "plt.plot(monthNumber[r : numRows - r], runAvg, \"blue\") \n",
    "plt.xlabel(\"Time (months)\")\n",
    "plt.ylabel(\"Sunspot (Number)\")\n",
    "plt.savefig(\"sunspots.png\")\n",
    "plt.show() # generates graph\n"
   ]
  }
 ],
 "metadata": {
  "kernelspec": {
   "display_name": "Python 3",
   "language": "python",
   "name": "python3"
  },
  "language_info": {
   "codemirror_mode": {
    "name": "ipython",
    "version": 3
   },
   "file_extension": ".py",
   "mimetype": "text/x-python",
   "name": "python",
   "nbconvert_exporter": "python",
   "pygments_lexer": "ipython3",
   "version": "3.10.11"
  }
 },
 "nbformat": 4,
 "nbformat_minor": 5
}
