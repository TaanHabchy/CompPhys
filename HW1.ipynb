{
 "cells": [
  {
   "cell_type": "markdown",
   "id": "fleet-participant",
   "metadata": {},
   "source": [
    "# Computational Physics Homework #1"
   ]
  },
  {
   "cell_type": "markdown",
   "id": "sound-celtic",
   "metadata": {},
   "source": [
    "1. Prepare a LaTeX document with the title “Computational Physics Problems” and yourself as \n",
    "author. Place the equation in Question 6, found below, in your text and, as appropriate, with equations. Also\n",
    "include an image of your choice. Have three sections:  Abstract, Introduction, Discussion.  Cite the article by Montogmery, Voloshina, and Olenick (2017) as a reference. Submit the pdf file.\n"
   ]
  },
  {
   "cell_type": "markdown",
   "id": "aging-audio",
   "metadata": {},
   "source": [
    "2. Ask the user where they are from (e.g., country).  If the country is one of 3 countries you chose as well you can give them a “Fun Fact” (Say something Interesting) about that country.  If they enter a country that you don't have in your program, give them a general answer that says: \"I don't know anything about <country>\", where <country> is the user input. For example: User inputs Canada and if it is one of your three countries, you can output, “Did you know that Canada has ⅓ of the freshwater sources”."
   ]
  },
  {
   "cell_type": "code",
   "execution_count": null,
   "id": "08f56513",
   "metadata": {},
   "outputs": [],
   "source": [
    "country = input(\"where are you from? \")\n",
    "\n",
    "\n",
    "if country == \"America\":\n",
    "    print(\"America is very cool\")\n",
    "    \n",
    "if country == \"Lebanon\":\n",
    "    print(\"My hometown of Lebanon has the largest Rosary in the world\")\n",
    "\n",
    "if country == \"Spain\":\n",
    "    print(\"The famous Sagrada Famila Cathedral in Barcelona has been in construction for over 100 years\")   \n",
    "else:\n",
    "    print(\"hi\")"
   ]
  },
  {
   "cell_type": "markdown",
   "id": "afraid-yeast",
   "metadata": {},
   "source": [
    "3. Write a program to determine the largest of three numbers that the user inputs and the smallest of the three numbers."
   ]
  },
  {
   "cell_type": "code",
   "execution_count": null,
   "id": "3f04e22e",
   "metadata": {},
   "outputs": [],
   "source": [
    "def numChecker(a,b,c):\n",
    "\n",
    "    if a < b and a < c:\n",
    "        print(a)\n",
    "    \n",
    "    if b < a and b < c:\n",
    "        print(b)\n",
    "    \n",
    "    if c < a and c < b:\n",
    "        print(c)\n",
    "\n",
    "    if a == b and a != c:\n",
    "        if a < c:\n",
    "            print(a)\n",
    "        else:  \n",
    "            print(c)\n",
    "    if a == c and a != b:\n",
    "        if a < b:\n",
    "            print(a)\n",
    "        else:\n",
    "            print(b)\n",
    "    if b == c and b != a:\n",
    "        if b < a:\n",
    "            print(b)\n",
    "        else:\n",
    "            print(a)\n",
    "\n",
    "    if a == b == c:\n",
    "        print(a)"
   ]
  },
  {
   "cell_type": "markdown",
   "id": "cosmetic-davis",
   "metadata": {},
   "source": [
    "4. The distance a vehicle travels can be calculated as follows: distance = speed x time. For example, if a train travels 40 miles per hour for three hours, the distance traveled is 120 miles. Write a program that asks the user for the speed of a vehicle (in miles per hour) and the number of hours it has traveled. It should then use a loop to display the distance the vehicle has traveled for each hour of that time period. Here is an example of the desired output:\t\t\tWhat is the speed of the vehicle in mph? 40 [Enter]\n",
    "How many hours has it traveled? 3 [Enter]\n",
    "\n",
    "Hour\t\t\t\tDistance Travelled\n",
    "\t1\t\t\t\t40\n",
    "\t2\t\t\t\t80\n",
    "\t3\t\t\t\t120\n"
   ]
  },
  {
   "cell_type": "code",
   "execution_count": null,
   "id": "f2805a97",
   "metadata": {},
   "outputs": [],
   "source": [
    "speed = int(input(\"How fast did you drive?\\n\"))\n",
    "time = int(input(\"How long did you drive\\n\"))\n",
    "\n",
    "print(\"Hour Distance Travelled\", end=\" \")\n",
    "for i in range(1, time + 1):\n",
    "    print(i, (speed * i), end=\" \")"
   ]
  },
  {
   "cell_type": "markdown",
   "id": "centered-pepper",
   "metadata": {},
   "source": [
    "5. Write a nested loop program to draw the following as your output. The second line has 2 spaces in between the third line has 4 spaces in between, the fourth line has 6 spaces in between, the fifth line has 8, the sixth line has 10 and seventh line has 12, etc."
   ]
  },
  {
   "cell_type": "code",
   "execution_count": null,
   "id": "a1fefb47",
   "metadata": {},
   "outputs": [],
   "source": [
    "def indenter(n):\n",
    "    for i in range(1, n + 1):\n",
    "        #print(\"n equals: \",n)\n",
    "        for j in range(1, i * 2 + 1):\n",
    "            print(\" \", end=\" \")\n",
    "        print(\"line \", i,\"-------------------------------------\")"
   ]
  },
  {
   "cell_type": "markdown",
   "id": "different-relation",
   "metadata": {},
   "source": [
    "6.  Write a Program that calculates the value of sin(x) from the series\n",
    "$\n",
    "\\sin(x) = \\sum_{j=0}^{\\infty} (-1)^j \\frac{x^{2j+1}}{(2j+1)!}\n",
    "$\n",
    "for a specific number of terms n (not infinite number of terms).  Compute the fractional error between your calculated value and that using math.sin(x)."
   ]
  },
  {
   "cell_type": "code",
   "execution_count": null,
   "id": "d7ea62c2",
   "metadata": {},
   "outputs": [],
   "source": [
    "\n",
    "def factorial(n):\n",
    "    answer = 1\n",
    "    while(n > 0):\n",
    "        answer *= n\n",
    "        n -= 1\n",
    "    return answer\n",
    "\n",
    "#factorial(5)\n",
    "\n",
    "def homemadeSin(x):\n",
    "    #np.sum(0,np.infty) * (-1)**\n",
    "    sign = 0\n",
    "    for j in range(0, 500):\n",
    "        #print(\"J equals: \", j)\n",
    "        #print(j,\" : \",sign)\n",
    "        factory = (2*j + 1)\n",
    "        sign = sign + (pow((-1),j) * (pow((x), factory) / factorial(factory)))\n",
    "        \n",
    "    print(sign)"
   ]
  },
  {
   "cell_type": "markdown",
   "id": "2552f396",
   "metadata": {},
   "source": [
    "The fractional error is equal to ((homemadeSin(n) - np.sin(n)) / n)"
   ]
  },
  {
   "cell_type": "code",
   "execution_count": null,
   "id": "modular-things",
   "metadata": {},
   "outputs": [],
   "source": []
  }
 ],
 "metadata": {
  "kernelspec": {
   "display_name": "Python 3",
   "language": "python",
   "name": "python3"
  },
  "language_info": {
   "codemirror_mode": {
    "name": "ipython",
    "version": 3
   },
   "file_extension": ".py",
   "mimetype": "text/x-python",
   "name": "python",
   "nbconvert_exporter": "python",
   "pygments_lexer": "ipython3",
   "version": "3.7.3"
  }
 },
 "nbformat": 4,
 "nbformat_minor": 5
}
